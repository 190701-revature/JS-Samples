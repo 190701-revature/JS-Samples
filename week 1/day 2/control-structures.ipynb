{
 "cells": [
  {
   "cell_type": "markdown",
   "metadata": {},
   "source": [
    "# Control Structures\n",
    "\n",
    "Control structures are a set of operations that allow us to execute code in a dynamic manner that is responsive to differing inputs.  Control structures can be grouped broadly into two categories:\n",
    "\n",
    "1. Conditional Structures\n",
    "2. Iterative Structures (Loops)"
   ]
  },
  {
   "cell_type": "markdown",
   "metadata": {},
   "source": [
    "## Definitions\n",
    "\n",
    "* Predicate - An expression that provides a boolean result for use as a condition.\n",
    "* Iteration - Doing something repeatedly."
   ]
  },
  {
   "cell_type": "markdown",
   "metadata": {},
   "source": [
    "-------\n",
    "\n",
    "### Conditional Statements\n",
    "\n",
    "A code block or line of executable code which will execute conditionally given some predicate. JavaScript supports three primary structures for providing conditional statements.\n",
    "\n",
    "1. `if` statements, and their subvarieties\n",
    "2. `switch` statements\n",
    "3. Ternary operations\n"
   ]
  },
  {
   "cell_type": "markdown",
   "metadata": {},
   "source": [
    "#### if statement\n",
    "\n",
    "Starts with the `if` keyword, followed by a condition, and then a code block of conditionally executing code."
   ]
  },
  {
   "cell_type": "code",
   "execution_count": 3,
   "metadata": {},
   "outputs": [
    {
     "name": "stdout",
     "output_type": "stream",
     "text": [
      "Will this line be printed?\n"
     ]
    }
   ],
   "source": [
    "let x = true;\n",
    "if (x) {\n",
    "    // Expectation: The following string will be printed\n",
    "    console.log('Will this line be printed?');\n",
    "}"
   ]
  },
  {
   "cell_type": "code",
   "execution_count": 4,
   "metadata": {},
   "outputs": [],
   "source": [
    "if (!x) {\n",
    "    // Expectation: Will not print\n",
    "    console.log('How about this line?');\n",
    "}"
   ]
  },
  {
   "cell_type": "code",
   "execution_count": 5,
   "metadata": {},
   "outputs": [
    {
     "name": "stdout",
     "output_type": "stream",
     "text": [
      "Hello World!\n"
     ]
    }
   ],
   "source": [
    "// Compress Syntax:\n",
    "if (x) console.log('Hello World!');"
   ]
  },
  {
   "cell_type": "markdown",
   "metadata": {},
   "source": [
    "If statements can be extended using `else` and `else if` to provide fallback behavior when the original condition is not met."
   ]
  },
  {
   "cell_type": "code",
   "execution_count": 7,
   "metadata": {},
   "outputs": [
    {
     "name": "stdout",
     "output_type": "stream",
     "text": [
      "10 is not greater than 15.\n"
     ]
    }
   ],
   "source": [
    "let myNumber = 10;\n",
    "if (myNumber > 15) {\n",
    "    console.log(myNumber + ' is greater than 15.');\n",
    "} else {\n",
    "    console.log(myNumber + ' is not greater than 15.');\n",
    "}"
   ]
  },
  {
   "cell_type": "code",
   "execution_count": 9,
   "metadata": {},
   "outputs": [
    {
     "name": "stdout",
     "output_type": "stream",
     "text": [
      "10 is less than 11.\n"
     ]
    }
   ],
   "source": [
    "if (myNumber > 15) {\n",
    "    console.log(myNumber + ' is greater than 15.');\n",
    "} else if (myNumber < 11) {\n",
    "    console.log(myNumber + ' is less than 11.')\n",
    "} else {\n",
    "    console.log(myNumber + ' is not less than 11 and is not greater than 15.');\n",
    "}"
   ]
  },
  {
   "cell_type": "markdown",
   "metadata": {},
   "source": [
    "#### Switch Statement\n",
    "\n",
    "Switch statements provide a simple way to execute conditional code when there are a lot of different kinds of conditional execution. They should be preferred anytime you find yourself having multiple if-else statements.  Switch statements define a value to switch on, and then provide 'cases' that should be executed when the value matches."
   ]
  },
  {
   "cell_type": "code",
   "execution_count": 10,
   "metadata": {},
   "outputs": [
    {
     "name": "stdout",
     "output_type": "stream",
     "text": [
      "It's three!\n",
      "It's four!\n"
     ]
    }
   ],
   "source": [
    "let mySwitchValue = 3;\n",
    "\n",
    "switch (mySwitchValue) {\n",
    "    case 1: console.log('It\\'s one!');\n",
    "    case 2: console.log('It\\'s two!');\n",
    "    case 3: console.log('It\\'s three!');\n",
    "    case 4: console.log('It\\'s four!');\n",
    "}"
   ]
  },
  {
   "cell_type": "markdown",
   "metadata": {},
   "source": [
    "Execution in a switch statement continues to execute and fall through to following cases! If this is not intended behavior, it is important that we stop the execution of the switch statement using the `break` keyword."
   ]
  },
  {
   "cell_type": "code",
   "execution_count": 11,
   "metadata": {},
   "outputs": [
    {
     "name": "stdout",
     "output_type": "stream",
     "text": [
      "It's three!\n"
     ]
    }
   ],
   "source": [
    "switch (mySwitchValue) {\n",
    "    case 1: console.log('It\\'s one!'); break;\n",
    "    case 2: console.log('It\\'s two!'); break;\n",
    "    case 3: console.log('It\\'s three!'); break;\n",
    "    case 4: console.log('It\\'s four!'); break;\n",
    "}"
   ]
  },
  {
   "cell_type": "markdown",
   "metadata": {},
   "source": [
    "We can also provide a `default` case to execute in the case that no other case requirements are met."
   ]
  },
  {
   "cell_type": "code",
   "execution_count": 12,
   "metadata": {},
   "outputs": [
    {
     "name": "stdout",
     "output_type": "stream",
     "text": [
      "It's not 1 or 2\n"
     ]
    }
   ],
   "source": [
    "switch (mySwitchValue) {\n",
    "    case 1: console.log('It\\'s one!'); break;\n",
    "    case 2: console.log('It\\'s two!'); break;\n",
    "    default: console.log('It\\'s not 1 or 2.'); break;\n",
    "}"
   ]
  },
  {
   "cell_type": "markdown",
   "metadata": {},
   "source": [
    "#### Ternary Operation\n",
    "Ternary operations are a compact method of conditionally executing code. Note that ternary operations have some unique functionality in that they can be used in the middle of an assignment, whereas `if`/`switch` statements cannot be used as part of a greater expression. We should also note that ternary operations can be difficult to read and we should only use them in the case that the compact nature makes it more readable. \n",
    "\n",
    "Ternary operations have the following anatomy:\n",
    "`condition` ? `true-case` : `false-case`;"
   ]
  },
  {
   "cell_type": "code",
   "execution_count": 13,
   "metadata": {},
   "outputs": [
    {
     "name": "stdout",
     "output_type": "stream",
     "text": [
      "mySwitchValue is less than 5!\n"
     ]
    }
   ],
   "source": [
    "let output = mySwitchValue > 5 \n",
    "        ? 'mySwitchValue is greater than 5!' \n",
    "        : 'mySwitchValue is less than 5!';\n",
    "\n",
    "console.log(output);"
   ]
  },
  {
   "cell_type": "code",
   "execution_count": 18,
   "metadata": {},
   "outputs": [],
   "source": [
    "// Don't nest ternary operations. It's a bad idea\n",
    "let whatAmI2 = false ? 1 : (false ? 2 : 3) ? true && false ? 4 : 5 : 6;"
   ]
  },
  {
   "cell_type": "code",
   "execution_count": 19,
   "metadata": {},
   "outputs": [
    {
     "name": "stdout",
     "output_type": "stream",
     "text": [
      "5\n"
     ]
    }
   ],
   "source": [
    "console.log(whatAmI2);"
   ]
  },
  {
   "cell_type": "markdown",
   "metadata": {},
   "source": [
    "-----------\n",
    "\n",
    "### Iteration (Loops)\n",
    "\n",
    "1. While and do-while loops\n",
    "2. for loops\n",
    "3. for-in, for-of loops\n",
    "4. functional iteration"
   ]
  },
  {
   "cell_type": "markdown",
   "metadata": {},
   "source": [
    "While and do-while loops are used to iteratively execute code until some predicate is no longer true. The only functional difference between while and do-while is that do-while will not check the predicate on the first iteration. While statements look a lot like an `if` statement, except they use the `while` keyword instead."
   ]
  },
  {
   "cell_type": "code",
   "execution_count": 23,
   "metadata": {},
   "outputs": [],
   "source": [
    "// Math.random gives us a random value between 0 and 1\n",
    "let myRandomValue = Math.random();"
   ]
  },
  {
   "cell_type": "code",
   "execution_count": 24,
   "metadata": {},
   "outputs": [
    {
     "name": "stdout",
     "output_type": "stream",
     "text": [
      "0.6569883816728488\n",
      "0.3782470675215306\n",
      "0.1733608638697297\n",
      "0.80693208096192\n",
      "0.5521473377491382\n"
     ]
    },
    {
     "data": {
      "text/plain": [
       "0.9468529145283886"
      ]
     },
     "execution_count": 24,
     "metadata": {},
     "output_type": "execute_result"
    }
   ],
   "source": [
    "while (myRandomValue < 0.9) {\n",
    "    console.log(myRandomValue);\n",
    "    myRandomValue = Math.random();\n",
    "}"
   ]
  },
  {
   "cell_type": "code",
   "execution_count": 25,
   "metadata": {},
   "outputs": [
    {
     "name": "stdout",
     "output_type": "stream",
     "text": [
      "0.9468529145283886\n",
      "0.021055903495661665\n",
      "0.33199056793550596\n",
      "0.5937090672985357\n",
      "0.257671831243075\n",
      "0.6715288141195526\n",
      "0.08173334902735152\n",
      "0.822896313137361\n",
      "0.305031605106473\n",
      "0.1957698992524144\n",
      "0.6788125893344226\n",
      "0.7750009495688388\n",
      "0.45253147555747786\n",
      "0.5875506218762017\n",
      "0.6085585919785621\n",
      "0.6124585157823872\n",
      "0.21090603416763187\n",
      "0.7976836243808234\n",
      "0.07028168626891751\n",
      "0.419992645561317\n",
      "0.7380005986054394\n",
      "0.6537347034297294\n",
      "0.25555245228648493\n",
      "0.5452291457796985\n",
      "0.5642436335991208\n",
      "0.30957003794305993\n",
      "0.12889279109527485\n",
      "0.5053989933549801\n",
      "0.16176249937529108\n",
      "0.5143858025468513\n",
      "0.5206355935272913\n",
      "0.25473699010617223\n",
      "0.2862475454125484\n",
      "0.2922387418570578\n"
     ]
    },
    {
     "data": {
      "text/plain": [
       "0.9599349103435848"
      ]
     },
     "execution_count": 25,
     "metadata": {},
     "output_type": "execute_result"
    }
   ],
   "source": [
    "do {\n",
    "    console.log(myRandomValue);\n",
    "    myRandomValue = Math.random();\n",
    "} while (myRandomValue < 0.9);"
   ]
  },
  {
   "cell_type": "markdown",
   "metadata": {},
   "source": [
    "#### For-loops\n",
    "In contrast with `while` loops, for loops usually have a known iteration count. Usually, for loops involve us iterating over some kind of set. The basic for loop syntax is a little more involved than a while loop. It requires us to set up three things:\n",
    "\n",
    "1. A tracking variable. An initial variable used to track the progress of the loop.\n",
    "2. A condition. A predicate used to define when the loop should end.\n",
    "3. A mutation to the tracking variable. How the tracking variable should change after each iteration.\n",
    "\n",
    "`for(1 ; 2 ; 3) { code }`\n",
    "\n"
   ]
  },
  {
   "cell_type": "code",
   "execution_count": 26,
   "metadata": {},
   "outputs": [
    {
     "name": "stdout",
     "output_type": "stream",
     "text": [
      "0\n",
      "1\n",
      "2\n",
      "3\n",
      "4\n",
      "5\n",
      "6\n",
      "7\n",
      "8\n",
      "9\n"
     ]
    }
   ],
   "source": [
    "for (let i = 0; i < 10; i++) {\n",
    "    console.log(i);\n",
    "}"
   ]
  },
  {
   "cell_type": "code",
   "execution_count": 27,
   "metadata": {},
   "outputs": [
    {
     "name": "stdout",
     "output_type": "stream",
     "text": [
      "2\n"
     ]
    }
   ],
   "source": [
    "const myArr = [0, 1, 2, 3];\n",
    "console.log(myArr[2]);"
   ]
  },
  {
   "cell_type": "code",
   "execution_count": 28,
   "metadata": {
    "scrolled": true
   },
   "outputs": [
    {
     "name": "stdout",
     "output_type": "stream",
     "text": [
      "0\n",
      "2\n",
      "4\n",
      "6\n"
     ]
    }
   ],
   "source": [
    "for (let i = 0; i < myArr.length; i++) {\n",
    "    console.log(myArr[i] * 2);\n",
    "}"
   ]
  },
  {
   "cell_type": "code",
   "execution_count": 29,
   "metadata": {},
   "outputs": [],
   "source": [
    "let myStringArray = ['Aardvark', 'Boar', 'Cat', 'Dog'];"
   ]
  },
  {
   "cell_type": "code",
   "execution_count": 32,
   "metadata": {},
   "outputs": [
    {
     "name": "stdout",
     "output_type": "stream",
     "text": [
      "0\n",
      "1\n",
      "2\n",
      "3\n"
     ]
    }
   ],
   "source": [
    "// for-in allows us to iterate over keys\n",
    "for(let key in myStringArray) {\n",
    "    console.log(key);\n",
    "}"
   ]
  },
  {
   "cell_type": "code",
   "execution_count": 33,
   "metadata": {},
   "outputs": [
    {
     "name": "stdout",
     "output_type": "stream",
     "text": [
      "Aardvark\n",
      "Boar\n",
      "Cat\n",
      "Dog\n"
     ]
    }
   ],
   "source": [
    "// for-of allows us to iterate over values\n",
    "for(let value of myStringArray) {\n",
    "    console.log(value);\n",
    "}"
   ]
  },
  {
   "cell_type": "code",
   "execution_count": 34,
   "metadata": {},
   "outputs": [
    {
     "name": "stdout",
     "output_type": "stream",
     "text": [
      "Aardvark\n",
      "Boar\n",
      "Cat\n",
      "Dog\n"
     ]
    }
   ],
   "source": [
    "// forEach iterative pattern\n",
    "// More functional programming style\n",
    "myStringArray.forEach((v) => console.log(v));"
   ]
  },
  {
   "cell_type": "code",
   "execution_count": null,
   "metadata": {},
   "outputs": [],
   "source": []
  }
 ],
 "metadata": {
  "kernelspec": {
   "display_name": "Javascript (Node.js)",
   "language": "javascript",
   "name": "javascript"
  },
  "language_info": {
   "file_extension": ".js",
   "mimetype": "application/javascript",
   "name": "javascript",
   "version": "8.10.0"
  }
 },
 "nbformat": 4,
 "nbformat_minor": 2
}
