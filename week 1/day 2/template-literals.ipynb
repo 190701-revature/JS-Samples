{
 "cells": [
  {
   "cell_type": "markdown",
   "metadata": {},
   "source": [
    "# Template Literals\n",
    "\n",
    "A template literal is a new (ES6) method of defining strings that has a behavioral difference from the standard string literal definition.  String literals are defined with single or double quotes (', \"). A template literal is defined using backticks (\\`)."
   ]
  },
  {
   "cell_type": "markdown",
   "metadata": {},
   "source": [
    "Template literals have a few interesting features that normal strings do not.\n",
    "\n",
    "1. Template literals can embed values inside them, by using the following syntax: \\` `${myVariable} ` \\`\n",
    "2. Template literals allow for multi-line strings.\n",
    "3. Nest template literals.\n",
    "4. Tagged template literals."
   ]
  },
  {
   "cell_type": "code",
   "execution_count": 1,
   "metadata": {},
   "outputs": [
    {
     "name": "stdout",
     "output_type": "stream",
     "text": [
      "Hello world!!!!\n"
     ]
    }
   ],
   "source": [
    "const myVariable = 'world';\n",
    "console.log(`Hello ${myVariable + '!!!!'}`);"
   ]
  },
  {
   "cell_type": "code",
   "execution_count": 2,
   "metadata": {},
   "outputs": [
    {
     "ename": "SyntaxError",
     "evalue": "Invalid or unexpected token",
     "output_type": "error",
     "traceback": [
      "evalmachine.<anonymous>:2",
      "const myString = 'hello",
      "                 ^^^^^^",
      "",
      "SyntaxError: Invalid or unexpected token",
      "    at createScript (vm.js:80:10)",
      "    at Object.runInThisContext (vm.js:139:10)",
      "    at run ([eval]:1002:15)",
      "    at onRunRequest ([eval]:829:18)",
      "    at onMessage ([eval]:789:13)",
      "    at emitTwo (events.js:126:13)",
      "    at process.emit (events.js:214:7)",
      "    at emit (internal/child_process.js:772:12)",
      "    at _combinedTickCallback (internal/process/next_tick.js:141:11)",
      "    at process._tickCallback (internal/process/next_tick.js:180:9)"
     ]
    }
   ],
   "source": [
    "// Multiline strings not possible with ' or \"\n",
    "const myString = 'hello\n",
    "\n",
    "world';"
   ]
  },
  {
   "cell_type": "code",
   "execution_count": 3,
   "metadata": {},
   "outputs": [],
   "source": [
    "// Multiline strings not possible with ' or \"\n",
    "const myString = `hello\n",
    "\n",
    "world`;"
   ]
  },
  {
   "cell_type": "code",
   "execution_count": 4,
   "metadata": {},
   "outputs": [
    {
     "name": "stdout",
     "output_type": "stream",
     "text": [
      "hello\n",
      "\n",
      "world\n"
     ]
    }
   ],
   "source": [
    "console.log(myString);"
   ]
  },
  {
   "cell_type": "code",
   "execution_count": 5,
   "metadata": {},
   "outputs": [
    {
     "name": "stdout",
     "output_type": "stream",
     "text": [
      "hello  world\n"
     ]
    }
   ],
   "source": [
    "// Template literals can be nested\n",
    "// (but shouldn't be)\n",
    "const a = 'llo';\n",
    "const b = 'wor';\n",
    "console.log(`${`he${a} `} ${`${b}ld`}`);"
   ]
  },
  {
   "cell_type": "code",
   "execution_count": 19,
   "metadata": {},
   "outputs": [
    {
     "name": "stdout",
     "output_type": "stream",
     "text": [
      "this string should be printed first\n",
      "[ 'this string should ', ' be printed ', ' out last' ]\n",
      "[ 'abc', 'cde' ]\n",
      "this string \\\n",
      "should \n",
      " be printed \n"
     ]
    }
   ],
   "source": [
    "function myTag(strings, ...args) {\n",
    "    console.log(strings);\n",
    "    console.log(args);\n",
    "    console.log(strings.raw[0]);\n",
    "    console.log(strings.raw[1]);  \n",
    "}\n",
    "\n",
    "console.log('this string should be printed first');\n",
    "myTag`this string \\\n",
    "should ${'abc'} be printed ${'cde'} out last`;"
   ]
  },
  {
   "cell_type": "code",
   "execution_count": 7,
   "metadata": {},
   "outputs": [
    {
     "name": "stdout",
     "output_type": "stream",
     "text": [
      "this is what is printing things\n"
     ]
    }
   ],
   "source": [
    "myTag`this is what is printing things`;"
   ]
  },
  {
   "cell_type": "code",
   "execution_count": 8,
   "metadata": {},
   "outputs": [
    {
     "name": "stdout",
     "output_type": "stream",
     "text": [
      "a \n",
      "b\n",
      "c\n"
     ]
    }
   ],
   "source": [
    "console.log(`a \n",
    "b\n",
    "c`);"
   ]
  },
  {
   "cell_type": "code",
   "execution_count": 9,
   "metadata": {},
   "outputs": [
    {
     "name": "stdout",
     "output_type": "stream",
     "text": [
      "a b c\n"
     ]
    }
   ],
   "source": [
    "console.log(`a \\\n",
    "b \\\n",
    "c`);"
   ]
  },
  {
   "cell_type": "code",
   "execution_count": null,
   "metadata": {},
   "outputs": [],
   "source": []
  }
 ],
 "metadata": {
  "kernelspec": {
   "display_name": "Javascript (Node.js)",
   "language": "javascript",
   "name": "javascript"
  },
  "language_info": {
   "file_extension": ".js",
   "mimetype": "application/javascript",
   "name": "javascript",
   "version": "8.10.0"
  }
 },
 "nbformat": 4,
 "nbformat_minor": 2
}
