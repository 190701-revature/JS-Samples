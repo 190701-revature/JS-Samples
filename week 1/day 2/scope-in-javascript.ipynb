{
 "cells": [
  {
   "cell_type": "markdown",
   "metadata": {},
   "source": [
    "# Scope\n",
    "\n",
    "## What is Scope?\n",
    "\n",
    "Scope defines the the 'scope of a variable' which is the area in which this variable is referenceable. \n",
    "\n",
    "JavaScript has 3 primary scopes:\n",
    "\n",
    "1. Global Scope - Variables referenceable anywhere.\n",
    "2. Function Scope - Function scope variables are only referenceable from within the defining function.\n",
    "3. Block Scope - Block scope defines a scope in which variables are referenceable only within the defining code block. (new as of ES6)\n",
    "4. no keyword - When declared with no keyword, JavaScript is unsure whether the reference is actually a declaration or a reference to a variable that should exist in another scope. Given this, to ensure maximum compatibility and survivability, JavaScript will put this variable in the global scope.\n",
    "\n",
    "The distinction between actual scope is a factor for both the location of definition and the keyword (if any) used to define it. Such as `var`, `let`, or `const`.\n",
    "\n",
    "### var\n",
    "\n",
    "Var was traditionally the only declaration keyword in JavaScript until the definition of the EcmaScript 6 standard (ES6). Variables declared with `var` can have only two possible scopes: global and function.  If the variable is declared within a function it will have function scope. If it is declared outside of a function, it will have global scope. Variables declared with `var` will also exhibit a behavior called `hoisting`.\n",
    "\n",
    "\n",
    "### let\n",
    "Let is a new keyword with the definition of ES6 JavaScript. Variables declared with `let` will have block scope, based on whatever the immediately composing code block is. Variables declared with `let` will **not** be hoisted.\n",
    "\n",
    "### const\n",
    "Const is a new keyword with the definition of ES6 JavaScript. It's scoping rules are exactly the same as `let`, but prevents reassignment to the variable after declaration. Variables declared with `const` will **not** be hoisted.\n"
   ]
  },
  {
   "cell_type": "code",
   "execution_count": 1,
   "metadata": {},
   "outputs": [],
   "source": [
    "if (true) {\n",
    "    var myVar = 10;\n",
    "    let myLet = 20;\n",
    "} // <-- at this point, myLet goes out of scope"
   ]
  },
  {
   "cell_type": "code",
   "execution_count": 3,
   "metadata": {},
   "outputs": [
    {
     "name": "stdout",
     "output_type": "stream",
     "text": [
      "10\n"
     ]
    }
   ],
   "source": [
    "// var does not use a block scope, so the scope of `myVar` is not limited to the if statement\n",
    "console.log(myVar); "
   ]
  },
  {
   "cell_type": "code",
   "execution_count": 4,
   "metadata": {},
   "outputs": [
    {
     "ename": "ReferenceError",
     "evalue": "myLet is not defined",
     "output_type": "error",
     "traceback": [
      "evalmachine.<anonymous>:1",
      "console.log(myLet);",
      "            ^",
      "",
      "ReferenceError: myLet is not defined",
      "    at evalmachine.<anonymous>:1:13",
      "    at ContextifyScript.Script.runInThisContext (vm.js:50:33)",
      "    at Object.runInThisContext (vm.js:139:38)",
      "    at run ([eval]:1002:15)",
      "    at onRunRequest ([eval]:829:18)",
      "    at onMessage ([eval]:789:13)",
      "    at emitTwo (events.js:126:13)",
      "    at process.emit (events.js:214:7)",
      "    at emit (internal/child_process.js:772:12)",
      "    at _combinedTickCallback (internal/process/next_tick.js:141:11)"
     ]
    }
   ],
   "source": [
    "// let uses block scope, and so myLet is only referenceable from within the defining code block\n",
    "console.log(myLet);"
   ]
  },
  {
   "cell_type": "code",
   "execution_count": 5,
   "metadata": {},
   "outputs": [
    {
     "ename": "ReferenceError",
     "evalue": "letValue is not defined",
     "output_type": "error",
     "traceback": [
      "evalmachine.<anonymous>:1",
      "console.log(letValue);",
      "            ^",
      "",
      "ReferenceError: letValue is not defined",
      "    at evalmachine.<anonymous>:1:13",
      "    at ContextifyScript.Script.runInThisContext (vm.js:50:33)",
      "    at Object.runInThisContext (vm.js:139:38)",
      "    at run ([eval]:1002:15)",
      "    at onRunRequest ([eval]:829:18)",
      "    at onMessage ([eval]:789:13)",
      "    at emitTwo (events.js:126:13)",
      "    at process.emit (events.js:214:7)",
      "    at emit (internal/child_process.js:772:12)",
      "    at _combinedTickCallback (internal/process/next_tick.js:141:11)"
     ]
    }
   ],
   "source": [
    "console.log(letValue);\n",
    "\n",
    "let letValue = 30;"
   ]
  },
  {
   "cell_type": "code",
   "execution_count": 6,
   "metadata": {},
   "outputs": [
    {
     "name": "stdout",
     "output_type": "stream",
     "text": [
      "undefined\n"
     ]
    }
   ],
   "source": [
    "console.log(varValue);\n",
    "\n",
    "var varValue = 40; // varValue will be hoisted\n",
    "// Hoisting is the process of the definition(!) of the variable being \n",
    "//    'hoisted' up to the top of its scope"
   ]
  },
  {
   "cell_type": "code",
   "execution_count": 7,
   "metadata": {},
   "outputs": [
    {
     "name": "stdout",
     "output_type": "stream",
     "text": [
      "40\n"
     ]
    },
    {
     "data": {
      "text/plain": [
       "40"
      ]
     },
     "execution_count": 7,
     "metadata": {},
     "output_type": "execute_result"
    }
   ],
   "source": [
    "// This is how it is actually interpreted:\n",
    "var varValue;\n",
    "console.log(varValue);\n",
    "varValue = 40;"
   ]
  },
  {
   "cell_type": "code",
   "execution_count": null,
   "metadata": {},
   "outputs": [],
   "source": []
  },
  {
   "cell_type": "code",
   "execution_count": 9,
   "metadata": {},
   "outputs": [],
   "source": [
    "function myFunction() {\n",
    "    console.log(functionVar);\n",
    "    var functionVar = 30;\n",
    "}"
   ]
  },
  {
   "cell_type": "code",
   "execution_count": 11,
   "metadata": {},
   "outputs": [
    {
     "name": "stdout",
     "output_type": "stream",
     "text": [
      "undefined\n"
     ]
    }
   ],
   "source": [
    "myFunction();\n"
   ]
  },
  {
   "cell_type": "code",
   "execution_count": 12,
   "metadata": {},
   "outputs": [
    {
     "ename": "ReferenceError",
     "evalue": "functionVar is not defined",
     "output_type": "error",
     "traceback": [
      "evalmachine.<anonymous>:1",
      "console.log(functionVar);",
      "            ^",
      "",
      "ReferenceError: functionVar is not defined",
      "    at evalmachine.<anonymous>:1:13",
      "    at ContextifyScript.Script.runInThisContext (vm.js:50:33)",
      "    at Object.runInThisContext (vm.js:139:38)",
      "    at run ([eval]:1002:15)",
      "    at onRunRequest ([eval]:829:18)",
      "    at onMessage ([eval]:789:13)",
      "    at emitTwo (events.js:126:13)",
      "    at process.emit (events.js:214:7)",
      "    at emit (internal/child_process.js:772:12)",
      "    at _combinedTickCallback (internal/process/next_tick.js:141:11)"
     ]
    }
   ],
   "source": [
    "console.log(functionVar);\n"
   ]
  },
  {
   "cell_type": "code",
   "execution_count": 13,
   "metadata": {},
   "outputs": [],
   "source": [
    "const myConst = 100;\n"
   ]
  },
  {
   "cell_type": "code",
   "execution_count": 14,
   "metadata": {},
   "outputs": [
    {
     "ename": "TypeError",
     "evalue": "Assignment to constant variable.",
     "output_type": "error",
     "traceback": [
      "evalmachine.<anonymous>:1",
      "myConst = 20;",
      "        ^",
      "",
      "TypeError: Assignment to constant variable.",
      "    at evalmachine.<anonymous>:1:9",
      "    at ContextifyScript.Script.runInThisContext (vm.js:50:33)",
      "    at Object.runInThisContext (vm.js:139:38)",
      "    at run ([eval]:1002:15)",
      "    at onRunRequest ([eval]:829:18)",
      "    at onMessage ([eval]:789:13)",
      "    at emitTwo (events.js:126:13)",
      "    at process.emit (events.js:214:7)",
      "    at emit (internal/child_process.js:772:12)",
      "    at _combinedTickCallback (internal/process/next_tick.js:141:11)"
     ]
    }
   ],
   "source": [
    "myConst = 20;"
   ]
  },
  {
   "cell_type": "code",
   "execution_count": 17,
   "metadata": {},
   "outputs": [
    {
     "ename": "SyntaxError",
     "evalue": "Identifier 'myConstArr' has already been declared",
     "output_type": "error",
     "traceback": [
      "evalmachine.<anonymous>:1",
      "const myConstArr = [1, 2, 3];",
      "^",
      "",
      "SyntaxError: Identifier 'myConstArr' has already been declared",
      "    at evalmachine.<anonymous>:1:1",
      "    at ContextifyScript.Script.runInThisContext (vm.js:50:33)",
      "    at Object.runInThisContext (vm.js:139:38)",
      "    at run ([eval]:1002:15)",
      "    at onRunRequest ([eval]:829:18)",
      "    at onMessage ([eval]:789:13)",
      "    at emitTwo (events.js:126:13)",
      "    at process.emit (events.js:214:7)",
      "    at emit (internal/child_process.js:772:12)",
      "    at _combinedTickCallback (internal/process/next_tick.js:141:11)"
     ]
    }
   ],
   "source": [
    "const myConstArr = [1, 2, 3];\n"
   ]
  },
  {
   "cell_type": "code",
   "execution_count": 21,
   "metadata": {},
   "outputs": [
    {
     "data": {
      "text/plain": [
       "5"
      ]
     },
     "execution_count": 21,
     "metadata": {},
     "output_type": "execute_result"
    }
   ],
   "source": [
    "myConstArr.push(10); // Mutation of existing array, not a reassignment, perfectly valid"
   ]
  },
  {
   "cell_type": "code",
   "execution_count": 19,
   "metadata": {},
   "outputs": [
    {
     "data": {
      "text/plain": [
       "[ 1, 2, 3, 10 ]"
      ]
     },
     "execution_count": 19,
     "metadata": {},
     "output_type": "execute_result"
    }
   ],
   "source": [
    "myConstArr"
   ]
  },
  {
   "cell_type": "code",
   "execution_count": 20,
   "metadata": {},
   "outputs": [
    {
     "ename": "TypeError",
     "evalue": "Assignment to constant variable.",
     "output_type": "error",
     "traceback": [
      "evalmachine.<anonymous>:1",
      "myConstArr = [7]; // reassignment, not valid with const",
      "           ^",
      "",
      "TypeError: Assignment to constant variable.",
      "    at evalmachine.<anonymous>:1:12",
      "    at ContextifyScript.Script.runInThisContext (vm.js:50:33)",
      "    at Object.runInThisContext (vm.js:139:38)",
      "    at run ([eval]:1002:15)",
      "    at onRunRequest ([eval]:829:18)",
      "    at onMessage ([eval]:789:13)",
      "    at emitTwo (events.js:126:13)",
      "    at process.emit (events.js:214:7)",
      "    at emit (internal/child_process.js:772:12)",
      "    at _combinedTickCallback (internal/process/next_tick.js:141:11)"
     ]
    }
   ],
   "source": [
    "myConstArr = [7]; // reassignment, not valid with const\n"
   ]
  },
  {
   "cell_type": "code",
   "execution_count": 23,
   "metadata": {},
   "outputs": [
    {
     "ename": "SyntaxError",
     "evalue": "Missing initializer in const declaration",
     "output_type": "error",
     "traceback": [
      "evalmachine.<anonymous>:1",
      "const delayedAssignment;",
      "      ^^^^^^^^^^^^^^^^^",
      "",
      "SyntaxError: Missing initializer in const declaration",
      "    at createScript (vm.js:80:10)",
      "    at Object.runInThisContext (vm.js:139:10)",
      "    at run ([eval]:1002:15)",
      "    at onRunRequest ([eval]:829:18)",
      "    at onMessage ([eval]:789:13)",
      "    at emitTwo (events.js:126:13)",
      "    at process.emit (events.js:214:7)",
      "    at emit (internal/child_process.js:772:12)",
      "    at _combinedTickCallback (internal/process/next_tick.js:141:11)",
      "    at process._tickCallback (internal/process/next_tick.js:180:9)"
     ]
    }
   ],
   "source": [
    "const delayedAssignment;\n",
    "delayedAssignment = 25;"
   ]
  },
  {
   "cell_type": "code",
   "execution_count": 31,
   "metadata": {},
   "outputs": [],
   "source": [
    "function myComplicatedFunction(a, b) {\n",
    "    let value;\n",
    "    if (a > b) {\n",
    "        value = 10;\n",
    "        console.log(value);\n",
    "        var name = 'yes';\n",
    "    } else {\n",
    "        value = 30;\n",
    "        console.log(value);\n",
    "        var name  = 'no';\n",
    "    }\n",
    "    \n",
    "    console.log(value, name);\n",
    "}"
   ]
  },
  {
   "cell_type": "code",
   "execution_count": 32,
   "metadata": {},
   "outputs": [
    {
     "name": "stdout",
     "output_type": "stream",
     "text": [
      "30\n",
      "30 'no'\n"
     ]
    }
   ],
   "source": [
    "myComplicatedFunction(1, 2);\n"
   ]
  },
  {
   "cell_type": "code",
   "execution_count": 33,
   "metadata": {},
   "outputs": [
    {
     "name": "stdout",
     "output_type": "stream",
     "text": [
      "20\n"
     ]
    },
    {
     "ename": "ReferenceError",
     "evalue": "x is not defined",
     "output_type": "error",
     "traceback": [
      "evalmachine.<anonymous>:5",
      "console.log(x);",
      "            ^",
      "",
      "ReferenceError: x is not defined",
      "    at evalmachine.<anonymous>:5:13",
      "    at ContextifyScript.Script.runInThisContext (vm.js:50:33)",
      "    at Object.runInThisContext (vm.js:139:38)",
      "    at run ([eval]:1002:15)",
      "    at onRunRequest ([eval]:829:18)",
      "    at onMessage ([eval]:789:13)",
      "    at emitTwo (events.js:126:13)",
      "    at process.emit (events.js:214:7)",
      "    at emit (internal/child_process.js:772:12)",
      "    at _combinedTickCallback (internal/process/next_tick.js:141:11)"
     ]
    }
   ],
   "source": [
    "{\n",
    "    const x = 20;\n",
    "    console.log(x);\n",
    "}\n",
    "console.log(x);"
   ]
  },
  {
   "cell_type": "code",
   "execution_count": 34,
   "metadata": {},
   "outputs": [
    {
     "name": "stdout",
     "output_type": "stream",
     "text": [
      "10\n"
     ]
    }
   ],
   "source": [
    "{\n",
    "    let x = 10;\n",
    "    {\n",
    "        console.log(x);\n",
    "    }\n",
    "}"
   ]
  },
  {
   "cell_type": "code",
   "execution_count": 37,
   "metadata": {},
   "outputs": [
    {
     "name": "stdout",
     "output_type": "stream",
     "text": [
      "0\n",
      "0\n",
      "0\n",
      "0\n",
      "1\n",
      "2\n",
      "0\n",
      "2\n",
      "4\n",
      "3 3\n"
     ]
    }
   ],
   "source": [
    "for (var y = 0; y < 3; y++) {\n",
    "    for (var z = 0; z < 3; z++) {\n",
    "        console.log(y*z);\n",
    "    }\n",
    "}\n",
    "console.log(z, y);"
   ]
  },
  {
   "cell_type": "code",
   "execution_count": 38,
   "metadata": {},
   "outputs": [
    {
     "name": "stdout",
     "output_type": "stream",
     "text": [
      "20\n"
     ]
    }
   ],
   "source": [
    "for (let a = 0; a < 10; a++) {\n",
    "    \n",
    "}\n",
    "\n",
    "let a = 20;\n",
    "console.log(a);"
   ]
  },
  {
   "cell_type": "code",
   "execution_count": null,
   "metadata": {},
   "outputs": [],
   "source": []
  }
 ],
 "metadata": {
  "kernelspec": {
   "display_name": "Javascript (Node.js)",
   "language": "javascript",
   "name": "javascript"
  },
  "language_info": {
   "file_extension": ".js",
   "mimetype": "application/javascript",
   "name": "javascript",
   "version": "8.10.0"
  }
 },
 "nbformat": 4,
 "nbformat_minor": 2
}
