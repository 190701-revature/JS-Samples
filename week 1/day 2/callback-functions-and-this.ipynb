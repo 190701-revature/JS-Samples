{
 "cells": [
  {
   "cell_type": "markdown",
   "metadata": {},
   "source": [
    "# Callback functions and this\n",
    "\n",
    "### What is a callback function?\n",
    "\n",
    "A callback function is any function passed to another function as an argument. This function can then be called from outside the context of our own code. Callback functions serve as interface between different codebases.\n",
    "\n",
    "`setTimeout(callback, timeoutDuration);`"
   ]
  },
  {
   "cell_type": "markdown",
   "metadata": {},
   "source": [
    "We call `setTimeout` - `setTimeout` itself is a function that we did not define. The callback function is passed to `setTimeout` and `setTimeout` can then call something we defined."
   ]
  },
  {
   "cell_type": "code",
   "execution_count": 1,
   "metadata": {},
   "outputs": [],
   "source": [
    "const externalObject = {\n",
    "    fun: undefined,\n",
    "    timeout: function(f, timeout) {\n",
    "        this.fun = f;\n",
    "        setTimeout(() => this.fun(), timeout);\n",
    "    }\n",
    "}"
   ]
  },
  {
   "cell_type": "code",
   "execution_count": 2,
   "metadata": {},
   "outputs": [],
   "source": [
    "const myObject = {\n",
    "    name: 'Abby',\n",
    "    sayHello: function() {\n",
    "        console.log(`Hello, I'm ${this.name}`)\n",
    "    }\n",
    "}"
   ]
  },
  {
   "cell_type": "code",
   "execution_count": 3,
   "metadata": {},
   "outputs": [
    {
     "name": "stdout",
     "output_type": "stream",
     "text": [
      "Hello, I'm Abby\n"
     ]
    }
   ],
   "source": [
    "myObject.sayHello();"
   ]
  },
  {
   "cell_type": "code",
   "execution_count": 4,
   "metadata": {},
   "outputs": [],
   "source": [
    "externalObject.timeout(myObject.sayHello, 1000);"
   ]
  },
  {
   "cell_type": "code",
   "execution_count": 5,
   "metadata": {},
   "outputs": [],
   "source": [
    "const exp = {\n",
    "    fun: undefined,\n",
    "    name: 'Sam',\n",
    "    timeout: function(f, timeout) {\n",
    "        this.fun = f;\n",
    "        setTimeout(() => this.fun(), timeout);\n",
    "    }\n",
    "}"
   ]
  },
  {
   "cell_type": "code",
   "execution_count": 6,
   "metadata": {},
   "outputs": [],
   "source": [
    "exp.timeout(myObject.sayHello.bind, 1000);"
   ]
  },
  {
   "cell_type": "code",
   "execution_count": 7,
   "metadata": {},
   "outputs": [],
   "source": [
    "const abby = {\n",
    "    name: 'Abby',\n",
    "    sayHello: function() {\n",
    "        console.log(`Hello, I'm ${this.name}`)\n",
    "    },\n",
    "    sayHelloDelayed: function() {\n",
    "        // Hello, I'm undefined\n",
    "//         setTimeout(this.sayHello, 1000);\n",
    "        \n",
    "        // Hello, I'm Abby\n",
    "        setTimeout(() => this.sayHello(), 1000);\n",
    "    }\n",
    "}"
   ]
  },
  {
   "cell_type": "code",
   "execution_count": 9,
   "metadata": {},
   "outputs": [
    {
     "name": "stdout",
     "output_type": "stream",
     "text": [
      "Hello, I'm Abby\n"
     ]
    }
   ],
   "source": [
    "abby.sayHelloDelayed();"
   ]
  },
  {
   "cell_type": "code",
   "execution_count": null,
   "metadata": {},
   "outputs": [],
   "source": []
  }
 ],
 "metadata": {
  "kernelspec": {
   "display_name": "Javascript (Node.js)",
   "language": "javascript",
   "name": "javascript"
  },
  "language_info": {
   "file_extension": ".js",
   "mimetype": "application/javascript",
   "name": "javascript",
   "version": "8.10.0"
  }
 },
 "nbformat": 4,
 "nbformat_minor": 2
}
