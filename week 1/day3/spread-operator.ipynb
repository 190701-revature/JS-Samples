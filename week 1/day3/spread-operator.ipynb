{
 "cells": [
  {
   "cell_type": "markdown",
   "metadata": {},
   "source": [
    "# Spread Operator (...)"
   ]
  },
  {
   "cell_type": "markdown",
   "metadata": {},
   "source": [
    "The spread operator is used to spread out values from a structure (an array or an object) into individual values for use. For instance, if I wanted to copy an array, I might be tempted to use a loop to take each value out of the array and place it in a new one."
   ]
  },
  {
   "cell_type": "code",
   "execution_count": 1,
   "metadata": {},
   "outputs": [],
   "source": [
    "const originalArr = [9, 8, 7, 6, 5, 4, 3, 2, 1];"
   ]
  },
  {
   "cell_type": "code",
   "execution_count": 2,
   "metadata": {},
   "outputs": [],
   "source": [
    "const loopArrCopy = [];"
   ]
  },
  {
   "cell_type": "code",
   "execution_count": 3,
   "metadata": {},
   "outputs": [
    {
     "data": {
      "text/plain": [
       "9"
      ]
     },
     "execution_count": 3,
     "metadata": {},
     "output_type": "execute_result"
    }
   ],
   "source": [
    "for(let v of originalArr) {\n",
    "    loopArrCopy.push(v);\n",
    "}"
   ]
  },
  {
   "cell_type": "code",
   "execution_count": 4,
   "metadata": {},
   "outputs": [
    {
     "data": {
      "text/plain": [
       "[ 9, 8, 7, 6, 5, 4, 3, 2, 1 ]"
      ]
     },
     "execution_count": 4,
     "metadata": {},
     "output_type": "execute_result"
    }
   ],
   "source": [
    "loopArrCopy"
   ]
  },
  {
   "cell_type": "code",
   "execution_count": 5,
   "metadata": {},
   "outputs": [],
   "source": [
    "const forEachCopy = [];"
   ]
  },
  {
   "cell_type": "code",
   "execution_count": 6,
   "metadata": {},
   "outputs": [],
   "source": [
    "originalArr.forEach((v) => forEachCopy.push(v));"
   ]
  },
  {
   "cell_type": "code",
   "execution_count": 7,
   "metadata": {},
   "outputs": [
    {
     "data": {
      "text/plain": [
       "[ 9, 8, 7, 6, 5, 4, 3, 2, 1 ]"
      ]
     },
     "execution_count": 7,
     "metadata": {},
     "output_type": "execute_result"
    }
   ],
   "source": [
    "forEachCopy"
   ]
  },
  {
   "cell_type": "code",
   "execution_count": 8,
   "metadata": {},
   "outputs": [],
   "source": [
    "const spreadCopy = [...originalArr];"
   ]
  },
  {
   "cell_type": "code",
   "execution_count": 10,
   "metadata": {},
   "outputs": [
    {
     "data": {
      "text/plain": [
       "[ 9, 8, 7, 6, 5, 4, 3, 2, 1 ]"
      ]
     },
     "execution_count": 10,
     "metadata": {},
     "output_type": "execute_result"
    }
   ],
   "source": [
    "spreadCopy"
   ]
  },
  {
   "cell_type": "code",
   "execution_count": 11,
   "metadata": {},
   "outputs": [],
   "source": [
    "const spreadWithNewValues = [...originalArr, 10, 11, 12];"
   ]
  },
  {
   "cell_type": "code",
   "execution_count": 12,
   "metadata": {},
   "outputs": [
    {
     "data": {
      "text/plain": [
       "[ 9, 8, 7, 6, 5, 4, 3, 2, 1, 10, 11, 12 ]"
      ]
     },
     "execution_count": 12,
     "metadata": {},
     "output_type": "execute_result"
    }
   ],
   "source": [
    "spreadWithNewValues"
   ]
  },
  {
   "cell_type": "code",
   "execution_count": 13,
   "metadata": {},
   "outputs": [],
   "source": [
    "const combinedArrays = [...originalArr, ...spreadWithNewValues];"
   ]
  },
  {
   "cell_type": "code",
   "execution_count": 14,
   "metadata": {},
   "outputs": [
    {
     "data": {
      "text/plain": [
       "[ 9, 8, 7, 6, 5, 4, 3, 2, 1, 9, 8, 7, 6, 5, 4, 3, 2, 1, 10, 11, 12 ]"
      ]
     },
     "execution_count": 14,
     "metadata": {},
     "output_type": "execute_result"
    }
   ],
   "source": [
    "combinedArrays"
   ]
  },
  {
   "cell_type": "markdown",
   "metadata": {},
   "source": [
    "## Spread operator with Objects"
   ]
  },
  {
   "cell_type": "markdown",
   "metadata": {},
   "source": [
    "We can also use the spread operator to spread object key-value pairs into objects. This allows us to quickly create a shallow copy of an object. We should aware that this will be a **shallow copy** and not a **deep copy**.  The distinction is that a shallow copy will not contain copies of objects held by the copied object, but instead will contain references to those composing objects."
   ]
  },
  {
   "cell_type": "code",
   "execution_count": 15,
   "metadata": {},
   "outputs": [],
   "source": [
    "const person = {\n",
    "    firstName: 'firstName',\n",
    "    lastName: 'lastName'\n",
    "};"
   ]
  },
  {
   "cell_type": "code",
   "execution_count": 16,
   "metadata": {},
   "outputs": [],
   "source": [
    "const abby = {...person};"
   ]
  },
  {
   "cell_type": "code",
   "execution_count": 17,
   "metadata": {},
   "outputs": [
    {
     "data": {
      "text/plain": [
       "'firstName'"
      ]
     },
     "execution_count": 17,
     "metadata": {},
     "output_type": "execute_result"
    }
   ],
   "source": [
    "abby.firstName"
   ]
  },
  {
   "cell_type": "code",
   "execution_count": 18,
   "metadata": {},
   "outputs": [
    {
     "data": {
      "text/plain": [
       "'lastName'"
      ]
     },
     "execution_count": 18,
     "metadata": {},
     "output_type": "execute_result"
    }
   ],
   "source": [
    "abby.lastName"
   ]
  },
  {
   "cell_type": "code",
   "execution_count": 20,
   "metadata": {},
   "outputs": [],
   "source": [
    "const ageInfo = {\n",
    "    birthYear: 1970,\n",
    "    birthMonth: 'January',\n",
    "    birthDay: 1\n",
    "}"
   ]
  },
  {
   "cell_type": "code",
   "execution_count": 21,
   "metadata": {},
   "outputs": [],
   "source": [
    "let newAbby = {...abby, ...ageInfo};"
   ]
  },
  {
   "cell_type": "code",
   "execution_count": 22,
   "metadata": {},
   "outputs": [
    {
     "data": {
      "text/plain": [
       "{ firstName: 'firstName',\n",
       "  lastName: 'lastName',\n",
       "  birthYear: 1970,\n",
       "  birthMonth: 'January',\n",
       "  birthDay: 1 }"
      ]
     },
     "execution_count": 22,
     "metadata": {},
     "output_type": "execute_result"
    }
   ],
   "source": [
    "newAbby"
   ]
  },
  {
   "cell_type": "code",
   "execution_count": 23,
   "metadata": {},
   "outputs": [
    {
     "data": {
      "text/plain": [
       "{ firstName: 'firstName',\n",
       "  lastName: 'lastName',\n",
       "  birthYear: 1970,\n",
       "  birthMonth: 'January',\n",
       "  birthDay: 1,\n",
       "  favoriteColor: 'blue',\n",
       "  favoriteAnimal: 'puppies' }"
      ]
     },
     "execution_count": 23,
     "metadata": {},
     "output_type": "execute_result"
    }
   ],
   "source": [
    "newAbby = {\n",
    "    ...newAbby,\n",
    "    favoriteColor: 'blue',\n",
    "    favoriteAnimal: 'puppies'\n",
    "}"
   ]
  },
  {
   "cell_type": "code",
   "execution_count": 24,
   "metadata": {},
   "outputs": [
    {
     "data": {
      "text/plain": [
       "{ firstName: 'firstName',\n",
       "  lastName: 'lastName',\n",
       "  birthYear: 1970,\n",
       "  birthMonth: 'January',\n",
       "  birthDay: 1,\n",
       "  favoriteColor: 'blue',\n",
       "  favoriteAnimal: 'puppies',\n",
       "  job: { title: 'Cook', experience: '3-5 years' } }"
      ]
     },
     "execution_count": 24,
     "metadata": {},
     "output_type": "execute_result"
    }
   ],
   "source": [
    "newAbby = {\n",
    "    ...newAbby,\n",
    "    job: {\n",
    "        title: 'Cook',\n",
    "        experience: '3-5 years'\n",
    "    }\n",
    "}"
   ]
  },
  {
   "cell_type": "code",
   "execution_count": 25,
   "metadata": {},
   "outputs": [],
   "source": [
    "const bobby = {\n",
    "    ...newAbby,\n",
    "    firstName: 'billy',\n",
    "    lastName: 'bob'\n",
    "}"
   ]
  },
  {
   "cell_type": "code",
   "execution_count": 26,
   "metadata": {},
   "outputs": [
    {
     "data": {
      "text/plain": [
       "{ firstName: 'billy',\n",
       "  lastName: 'bob',\n",
       "  birthYear: 1970,\n",
       "  birthMonth: 'January',\n",
       "  birthDay: 1,\n",
       "  favoriteColor: 'blue',\n",
       "  favoriteAnimal: 'puppies',\n",
       "  job: { title: 'Cook', experience: '3-5 years' } }"
      ]
     },
     "execution_count": 26,
     "metadata": {},
     "output_type": "execute_result"
    }
   ],
   "source": [
    "bobby"
   ]
  },
  {
   "cell_type": "code",
   "execution_count": 27,
   "metadata": {},
   "outputs": [
    {
     "data": {
      "text/plain": [
       "'Construction Worker'"
      ]
     },
     "execution_count": 27,
     "metadata": {},
     "output_type": "execute_result"
    }
   ],
   "source": [
    "bobby.job.title = 'Construction Worker';"
   ]
  },
  {
   "cell_type": "code",
   "execution_count": 28,
   "metadata": {},
   "outputs": [
    {
     "data": {
      "text/plain": [
       "{ firstName: 'billy',\n",
       "  lastName: 'bob',\n",
       "  birthYear: 1970,\n",
       "  birthMonth: 'January',\n",
       "  birthDay: 1,\n",
       "  favoriteColor: 'blue',\n",
       "  favoriteAnimal: 'puppies',\n",
       "  job: { title: 'Construction Worker', experience: '3-5 years' } }"
      ]
     },
     "execution_count": 28,
     "metadata": {},
     "output_type": "execute_result"
    }
   ],
   "source": [
    "bobby"
   ]
  },
  {
   "cell_type": "code",
   "execution_count": 29,
   "metadata": {},
   "outputs": [
    {
     "data": {
      "text/plain": [
       "{ firstName: 'firstName', lastName: 'lastName' }"
      ]
     },
     "execution_count": 29,
     "metadata": {},
     "output_type": "execute_result"
    }
   ],
   "source": [
    "abby"
   ]
  },
  {
   "cell_type": "code",
   "execution_count": 30,
   "metadata": {},
   "outputs": [
    {
     "data": {
      "text/plain": [
       "{ firstName: 'firstName',\n",
       "  lastName: 'lastName',\n",
       "  birthYear: 1970,\n",
       "  birthMonth: 'January',\n",
       "  birthDay: 1,\n",
       "  favoriteColor: 'blue',\n",
       "  favoriteAnimal: 'puppies',\n",
       "  job: { title: 'Construction Worker', experience: '3-5 years' } }"
      ]
     },
     "execution_count": 30,
     "metadata": {},
     "output_type": "execute_result"
    }
   ],
   "source": [
    "newAbby"
   ]
  },
  {
   "cell_type": "code",
   "execution_count": 31,
   "metadata": {},
   "outputs": [
    {
     "data": {
      "text/plain": [
       "'Cook'"
      ]
     },
     "execution_count": 31,
     "metadata": {},
     "output_type": "execute_result"
    }
   ],
   "source": [
    "newAbby.job.title = 'Cook';"
   ]
  },
  {
   "cell_type": "code",
   "execution_count": 32,
   "metadata": {},
   "outputs": [],
   "source": [
    "const billysJob = {\n",
    "    ...newAbby.job, \n",
    "//     title: 'Cook',\n",
    "//     experience: '3-5 years',\n",
    "    title: 'Construction Worker'\n",
    "}"
   ]
  },
  {
   "cell_type": "code",
   "execution_count": 33,
   "metadata": {},
   "outputs": [],
   "source": [
    "let billy = {\n",
    "    ...newAbby,\n",
    "    job: {\n",
    "        ...billysJob\n",
    "    }\n",
    "}"
   ]
  },
  {
   "cell_type": "code",
   "execution_count": 34,
   "metadata": {},
   "outputs": [
    {
     "data": {
      "text/plain": [
       "{ firstName: 'firstName',\n",
       "  lastName: 'lastName',\n",
       "  birthYear: 1970,\n",
       "  birthMonth: 'January',\n",
       "  birthDay: 1,\n",
       "  favoriteColor: 'blue',\n",
       "  favoriteAnimal: 'puppies',\n",
       "  job: { title: 'Construction Worker', experience: '3-5 years' } }"
      ]
     },
     "execution_count": 34,
     "metadata": {},
     "output_type": "execute_result"
    }
   ],
   "source": [
    "billy"
   ]
  },
  {
   "cell_type": "code",
   "execution_count": 36,
   "metadata": {},
   "outputs": [
    {
     "data": {
      "text/plain": [
       "{ firstName: 'firstName',\n",
       "  lastName: 'lastName',\n",
       "  birthYear: 1970,\n",
       "  birthMonth: 'January',\n",
       "  birthDay: 1,\n",
       "  favoriteColor: 'blue',\n",
       "  favoriteAnimal: 'puppies',\n",
       "  job: { title: 'Cook', experience: '3-5 years' } }"
      ]
     },
     "execution_count": 36,
     "metadata": {},
     "output_type": "execute_result"
    }
   ],
   "source": [
    "newAbby"
   ]
  },
  {
   "cell_type": "code",
   "execution_count": null,
   "metadata": {},
   "outputs": [],
   "source": []
  }
 ],
 "metadata": {
  "kernelspec": {
   "display_name": "Javascript (Node.js)",
   "language": "javascript",
   "name": "javascript"
  },
  "language_info": {
   "file_extension": ".js",
   "mimetype": "application/javascript",
   "name": "javascript",
   "version": "8.10.0"
  }
 },
 "nbformat": 4,
 "nbformat_minor": 2
}
