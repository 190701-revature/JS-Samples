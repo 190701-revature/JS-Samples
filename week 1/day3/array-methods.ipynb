{
 "cells": [
  {
   "cell_type": "code",
   "execution_count": 1,
   "metadata": {},
   "outputs": [],
   "source": [
    "// Array methods for functional programming\n",
    "/*\n",
    "    filter - Filters an array given a predicate\n",
    "    map - Converts values from one value to another given a function\n",
    "    forEach - Operates on each value in the array (consuming the value)\n",
    "    some - Aggregate-Or boolean operation on the array\n",
    "    every - Aggregate-And boolean operation on the array \n",
    "    reduce - Aggregate operation over set using an aggregator\n",
    "\n",
    "\n",
    "*/\n",
    "\n",
    "\n",
    "const arr = [...Array(100).keys()]"
   ]
  },
  {
   "cell_type": "code",
   "execution_count": 2,
   "metadata": {},
   "outputs": [],
   "source": [
    "// Let's suppose I want an array of only even values\n",
    "\n",
    "// Filter is a method of arrays that accepts a callback function\n",
    "// the callback is called for each item in the array, and that item will\n",
    "// included in the filtered array if the result of the callback function truthy\n",
    "// In this way, the filter expression filters for the values we want\n",
    "const even = arr.filter((v) => v % 2 === 0);"
   ]
  },
  {
   "cell_type": "code",
   "execution_count": 3,
   "metadata": {},
   "outputs": [
    {
     "data": {
      "text/plain": [
       "[ 0,\n",
       "  2,\n",
       "  4,\n",
       "  6,\n",
       "  8,\n",
       "  10,\n",
       "  12,\n",
       "  14,\n",
       "  16,\n",
       "  18,\n",
       "  20,\n",
       "  22,\n",
       "  24,\n",
       "  26,\n",
       "  28,\n",
       "  30,\n",
       "  32,\n",
       "  34,\n",
       "  36,\n",
       "  38,\n",
       "  40,\n",
       "  42,\n",
       "  44,\n",
       "  46,\n",
       "  48,\n",
       "  50,\n",
       "  52,\n",
       "  54,\n",
       "  56,\n",
       "  58,\n",
       "  60,\n",
       "  62,\n",
       "  64,\n",
       "  66,\n",
       "  68,\n",
       "  70,\n",
       "  72,\n",
       "  74,\n",
       "  76,\n",
       "  78,\n",
       "  80,\n",
       "  82,\n",
       "  84,\n",
       "  86,\n",
       "  88,\n",
       "  90,\n",
       "  92,\n",
       "  94,\n",
       "  96,\n",
       "  98 ]"
      ]
     },
     "execution_count": 3,
     "metadata": {},
     "output_type": "execute_result"
    }
   ],
   "source": [
    "even"
   ]
  },
  {
   "cell_type": "code",
   "execution_count": 4,
   "metadata": {},
   "outputs": [],
   "source": [
    "// Mapping - the Map method can be used to convert array values to new values.\n",
    "// map accepts a callback function, which will be called for each array value with that value\n",
    "// as a parameter.\n",
    "// The return value of the callback is used as the new value in the returned array.\n",
    "\n",
    "const smallArr = [1, 2, 3];\n",
    "\n",
    "// I want each value in the array, except I want it squared\n",
    "const squares = smallArr.map((v) => Math.pow(v, 2));"
   ]
  },
  {
   "cell_type": "code",
   "execution_count": 5,
   "metadata": {},
   "outputs": [
    {
     "data": {
      "text/plain": [
       "[ 1, 4, 9 ]"
      ]
     },
     "execution_count": 5,
     "metadata": {},
     "output_type": "execute_result"
    }
   ],
   "source": [
    "squares"
   ]
  },
  {
   "cell_type": "code",
   "execution_count": 6,
   "metadata": {},
   "outputs": [
    {
     "data": {
      "text/plain": [
       "[ 4 ]"
      ]
     },
     "execution_count": 6,
     "metadata": {},
     "output_type": "execute_result"
    }
   ],
   "source": [
    "smallArr\n",
    "    .filter((v) => v % 2 === 0)\n",
    "    .map((v) => Math.pow(v, 2));"
   ]
  },
  {
   "cell_type": "code",
   "execution_count": 7,
   "metadata": {},
   "outputs": [
    {
     "data": {
      "text/plain": [
       "5"
      ]
     },
     "execution_count": 7,
     "metadata": {},
     "output_type": "execute_result"
    }
   ],
   "source": [
    "// Let's make smaller array a little bigger\n",
    "smallArr.push(4);\n",
    "smallArr.push(5);"
   ]
  },
  {
   "cell_type": "code",
   "execution_count": 13,
   "metadata": {},
   "outputs": [
    {
     "data": {
      "text/plain": [
       "true"
      ]
     },
     "execution_count": 13,
     "metadata": {},
     "output_type": "execute_result"
    }
   ],
   "source": [
    "// some method \n",
    "// some method accepts a callback function\n",
    "// the callback will be called for each item until it finds a 'matching' item\n",
    "// with the param being the value it is called for\n",
    "// The function will return true if any item in the array, has a callback function which true\n",
    "\n",
    "smallArr.some((v) => v == '5');"
   ]
  },
  {
   "cell_type": "code",
   "execution_count": 14,
   "metadata": {},
   "outputs": [
    {
     "name": "stdout",
     "output_type": "stream",
     "text": [
      "1\n",
      "2\n",
      "3\n",
      "4\n",
      "5\n"
     ]
    }
   ],
   "source": [
    "// forEach\n",
    "// forEach is an array method which accepts a callback function\n",
    "// and calls the callback for each item in the array with that item as a parameter\n",
    "// forEach is just used to call behavior, not for filtering/mapping/etc.\n",
    "const newArr = [];\n",
    "smallArr.forEach((v) => {\n",
    "    console.log(v)\n",
    "    newArr.push(v);\n",
    "})"
   ]
  },
  {
   "cell_type": "code",
   "execution_count": 15,
   "metadata": {},
   "outputs": [
    {
     "data": {
      "text/plain": [
       "[ 1, 2, 3, 4, 5 ]"
      ]
     },
     "execution_count": 15,
     "metadata": {},
     "output_type": "execute_result"
    }
   ],
   "source": [
    "newArr"
   ]
  },
  {
   "cell_type": "code",
   "execution_count": 16,
   "metadata": {},
   "outputs": [],
   "source": [
    "// reduce\n",
    "// reduce is an aggregate method, that is used to aggregate the set of data into a single value\n",
    "// Reduce accepts a callback function, that has two parameters -\n",
    "// an aggregator and the current value\n",
    "// and the function should be a function of how values are integrated into the aggregator\n",
    "// Values are generally called ordinally, but the order is not guaranteed"
   ]
  },
  {
   "cell_type": "code",
   "execution_count": null,
   "metadata": {},
   "outputs": [],
   "source": []
  },
  {
   "cell_type": "code",
   "execution_count": 18,
   "metadata": {},
   "outputs": [
    {
     "data": {
      "text/plain": [
       "15"
      ]
     },
     "execution_count": 18,
     "metadata": {},
     "output_type": "execute_result"
    }
   ],
   "source": [
    "smallArr.reduce((aggregator, v) => aggregator = aggregator + v);\n"
   ]
  },
  {
   "cell_type": "code",
   "execution_count": 22,
   "metadata": {},
   "outputs": [
    {
     "name": "stdout",
     "output_type": "stream",
     "text": [
      "Aggregator: 100, v: 1\n",
      "Aggregator: 101, v: 2\n",
      "Aggregator: 103, v: 3\n",
      "Aggregator: 106, v: 4\n",
      "Aggregator: 110, v: 5\n"
     ]
    },
    {
     "data": {
      "text/plain": [
       "115"
      ]
     },
     "execution_count": 22,
     "metadata": {},
     "output_type": "execute_result"
    }
   ],
   "source": [
    "smallArr.reduce((aggregator, v) => {\n",
    "    console.log(`Aggregator: ${aggregator}, v: ${v}`);\n",
    "    return aggregator = aggregator + v;\n",
    "}, 100);\n"
   ]
  },
  {
   "cell_type": "code",
   "execution_count": null,
   "metadata": {},
   "outputs": [],
   "source": []
  }
 ],
 "metadata": {
  "kernelspec": {
   "display_name": "Javascript (Node.js)",
   "language": "javascript",
   "name": "javascript"
  },
  "language_info": {
   "file_extension": ".js",
   "mimetype": "application/javascript",
   "name": "javascript",
   "version": "8.10.0"
  }
 },
 "nbformat": 4,
 "nbformat_minor": 2
}
